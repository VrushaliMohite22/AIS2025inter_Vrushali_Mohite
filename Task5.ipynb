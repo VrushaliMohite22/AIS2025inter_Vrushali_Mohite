{
  "nbformat": 4,
  "nbformat_minor": 0,
  "metadata": {
    "colab": {
      "provenance": []
    },
    "kernelspec": {
      "name": "python3",
      "display_name": "Python 3"
    },
    "language_info": {
      "name": "python"
    }
  },
  "cells": [
    {
      "cell_type": "code",
      "source": [
        "import pandas as pd\n",
        "series = pd.Series([1,2,3],index=['a','b','c'])\n",
        "print(series)\n",
        "data={'Name' : ['John','Anna','Peter'],\n",
        "      'Age' : [28,24,35]}\n",
        "df=pd.DataFrame(data)\n",
        "print(df)"
      ],
      "metadata": {
        "id": "eT5RTKl-i_du",
        "colab": {
          "base_uri": "https://localhost:8080/"
        },
        "outputId": "0b70bebd-3e20-4402-c0f5-a599cc508640"
      },
      "execution_count": null,
      "outputs": [
        {
          "output_type": "stream",
          "name": "stdout",
          "text": [
            "a    1\n",
            "b    2\n",
            "c    3\n",
            "dtype: int64\n",
            "    Name  Age\n",
            "0   John   28\n",
            "1   Anna   24\n",
            "2  Peter   35\n"
          ]
        }
      ]
    },
    {
      "cell_type": "code",
      "source": [
        "df=pd.DataFrame({'Name' : ['John','Anna','Peter'],\n",
        "                 'Age' : [28,24,35]})\n",
        "print(df['Name'])\n",
        "print(df.iloc[0])\n",
        "print(df.loc[0,'Name'])"
      ],
      "metadata": {
        "colab": {
          "base_uri": "https://localhost:8080/"
        },
        "id": "csW3-i6PnT4z",
        "outputId": "24902517-a789-4953-bc05-486408e9e078"
      },
      "execution_count": null,
      "outputs": [
        {
          "output_type": "stream",
          "name": "stdout",
          "text": [
            "0     John\n",
            "1     Anna\n",
            "2    Peter\n",
            "Name: Name, dtype: object\n",
            "Name    John\n",
            "Age       28\n",
            "Name: 0, dtype: object\n",
            "John\n"
          ]
        }
      ]
    },
    {
      "cell_type": "code",
      "source": [
        "df=pd.DataFrame({'Name' : ['John','Anna','Peter'],\n",
        "                 'Age' : [28,24,35]})\n",
        "print(df.isnull())\n",
        "df = df.dropna()\n",
        "print(df)\n",
        "df = pd.DataFrame({'Name' : ['John',None,'Peter'],\n",
        "                   'Age' : [28,24,None]})\n",
        "df = df.fillna('Unknown')\n",
        "print(df)\n"
      ],
      "metadata": {
        "colab": {
          "base_uri": "https://localhost:8080/"
        },
        "outputId": "b39075ce-ef52-4a9f-bd84-be039bffbacf",
        "id": "LkdohX83pSQZ"
      },
      "execution_count": null,
      "outputs": [
        {
          "output_type": "stream",
          "name": "stdout",
          "text": [
            "    Name    Age\n",
            "0  False  False\n",
            "1  False  False\n",
            "2  False  False\n",
            "    Name  Age\n",
            "0   John   28\n",
            "1   Anna   24\n",
            "2  Peter   35\n",
            "      Name      Age\n",
            "0     John     28.0\n",
            "1  Unknown     24.0\n",
            "2    Peter  Unknown\n"
          ]
        }
      ]
    },
    {
      "cell_type": "code",
      "source": [],
      "metadata": {
        "id": "cjIjnXUQqQDq"
      },
      "execution_count": null,
      "outputs": []
    },
    {
      "cell_type": "code",
      "source": [
        "df=pd.DataFrame({'Name' : ['John','Anna','Peter'],\n",
        "                 'Age' : [28,24,35]})\n",
        "df = df.rename(columns={'Name' : 'Full Name'})\n",
        "print(df)\n",
        "df = pd.DataFrame({'Name' : ['John',None,'Peter'],\n",
        "                   'Age' : [28,24,None]})\n",
        "df_filtered = df[df['Age']>30]\n",
        "print(df_filtered)\n"
      ],
      "metadata": {
        "colab": {
          "base_uri": "https://localhost:8080/"
        },
        "outputId": "380d106c-4a06-44aa-b238-e16e8169840d",
        "id": "gAW975TIqieb"
      },
      "execution_count": null,
      "outputs": [
        {
          "output_type": "stream",
          "name": "stdout",
          "text": [
            "  Full Name  Age\n",
            "0      John   28\n",
            "1      Anna   24\n",
            "2     Peter   35\n",
            "Empty DataFrame\n",
            "Columns: [Name, Age]\n",
            "Index: []\n"
          ]
        }
      ]
    },
    {
      "cell_type": "code",
      "source": [
        "df = pd.DataFrame({'Category' : ['A','B','A','B'],\n",
        "                   'Value' : [10,20,30,40]})\n",
        "grouped = df.groupby('Category')\n",
        "print(grouped.sum())\n"
      ],
      "metadata": {
        "colab": {
          "base_uri": "https://localhost:8080/"
        },
        "id": "CnlPt8u7ricE",
        "outputId": "e52143a6-44cb-4e7d-f262-d635f1f6e1d0"
      },
      "execution_count": null,
      "outputs": [
        {
          "output_type": "stream",
          "name": "stdout",
          "text": [
            "          Value\n",
            "Category       \n",
            "A            40\n",
            "B            60\n"
          ]
        }
      ]
    },
    {
      "cell_type": "code",
      "source": [],
      "metadata": {
        "id": "bx9kHnhUsfLv"
      },
      "execution_count": null,
      "outputs": []
    },
    {
      "cell_type": "code",
      "source": [
        "df1=pd.DataFrame({'Key': ['A','B','C'],\n",
        "                  'Value1' : [10,20,30]})\n",
        "\n",
        "print(df.isnull())\n",
        "df = df.dropna()\n",
        "print(df)\n",
        "df = pd.DataFrame({'Name' : ['John',None,'Peter'],\n",
        "                   'Age' : [28,24,None]})\n",
        "df = df.fillna('Unknown')\n",
        "print(df)\n"
      ],
      "metadata": {
        "colab": {
          "base_uri": "https://localhost:8080/"
        },
        "outputId": "b39075ce-ef52-4a9f-bd84-be039bffbacf",
        "id": "7CyIpau4siy8"
      },
      "execution_count": null,
      "outputs": [
        {
          "output_type": "stream",
          "name": "stdout",
          "text": [
            "    Name    Age\n",
            "0  False  False\n",
            "1  False  False\n",
            "2  False  False\n",
            "    Name  Age\n",
            "0   John   28\n",
            "1   Anna   24\n",
            "2  Peter   35\n",
            "      Name      Age\n",
            "0     John     28.0\n",
            "1  Unknown     24.0\n",
            "2    Peter  Unknown\n"
          ]
        }
      ]
    },
    {
      "cell_type": "code",
      "source": [
        "df1=pd.DataFrame({'Key': ['A','B','C'],\n",
        "                  'Value1' : [10,20,30]})\n",
        "\n",
        "print(df.isnull())\n",
        "df = df.dropna()\n",
        "print(df)\n",
        "df = pd.DataFrame({'Name' : ['John',None,'Peter'],\n",
        "                   'Age' : [28,24,None]})\n",
        "df = df.fillna('Unknown')\n",
        "print(df)\n"
      ],
      "metadata": {
        "colab": {
          "base_uri": "https://localhost:8080/"
        },
        "outputId": "b39075ce-ef52-4a9f-bd84-be039bffbacf",
        "id": "eEmn4BLMtZiP"
      },
      "execution_count": null,
      "outputs": [
        {
          "output_type": "stream",
          "name": "stdout",
          "text": [
            "    Name    Age\n",
            "0  False  False\n",
            "1  False  False\n",
            "2  False  False\n",
            "    Name  Age\n",
            "0   John   28\n",
            "1   Anna   24\n",
            "2  Peter   35\n",
            "      Name      Age\n",
            "0     John     28.0\n",
            "1  Unknown     24.0\n",
            "2    Peter  Unknown\n"
          ]
        }
      ]
    },
    {
      "cell_type": "code",
      "source": [
        "df1=pd.DataFrame({'Key': ['A','B','C'],\n",
        "                  'Value1' : [10,20,30]})\n",
        "df2=pd.DataFrame({'Key' : ['A','B','C'],\n",
        "                   'Value2' : [40,50,60]})\n",
        "merged = pd.merge(df1,df2,on='Key')\n",
        "print(merged)\n",
        "\n"
      ],
      "metadata": {
        "colab": {
          "base_uri": "https://localhost:8080/"
        },
        "outputId": "535c5bd9-6a02-4a3d-f0db-114e5ff633f0",
        "id": "Yw0_AIEDtall"
      },
      "execution_count": null,
      "outputs": [
        {
          "output_type": "stream",
          "name": "stdout",
          "text": [
            "  Key  Value1  Value2\n",
            "0   A      10      40\n",
            "1   B      20      50\n",
            "2   C      30      60\n"
          ]
        }
      ]
    },
    {
      "cell_type": "code",
      "source": [
        "import pandas as pd\n",
        "df = pd.DataFrame({'Name' : ['John','Anna','Peter'],'Age' : [28,24,35]})\n",
        "df.to_csv('data.csv',index=False)\n",
        "print(pd.read_csv('data.csv'))"
      ],
      "metadata": {
        "colab": {
          "base_uri": "https://localhost:8080/"
        },
        "id": "3KolfywvuYtr",
        "outputId": "470d3e0c-a76c-4d77-ac70-792d88869875"
      },
      "execution_count": null,
      "outputs": [
        {
          "output_type": "stream",
          "name": "stdout",
          "text": [
            "    Name  Age\n",
            "0   John   28\n",
            "1   Anna   24\n",
            "2  Peter   35\n"
          ]
        }
      ]
    },
    {
      "cell_type": "code",
      "source": [],
      "metadata": {
        "id": "wmGybwsfvfoD"
      },
      "execution_count": null,
      "outputs": []
    }
  ]
}