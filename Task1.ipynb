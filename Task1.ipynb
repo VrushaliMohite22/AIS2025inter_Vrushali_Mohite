{
  "nbformat": 4,
  "nbformat_minor": 0,
  "metadata": {
    "colab": {
      "provenance": []
    },
    "kernelspec": {
      "name": "python3",
      "display_name": "Python 3"
    },
    "language_info": {
      "name": "python"
    }
  },
  "cells": [
    {
      "cell_type": "code",
      "execution_count": null,
      "metadata": {
        "colab": {
          "base_uri": "https://localhost:8080/"
        },
        "id": "_wSUcnlKJQLv",
        "outputId": "90d91ad8-dec2-4d56-df38-a642fc3005cd"
      },
      "outputs": [
        {
          "output_type": "stream",
          "name": "stdout",
          "text": [
            "18\n",
            "2\n",
            "80\n",
            "1.25\n",
            "2\n"
          ]
        }
      ],
      "source": [
        " PYTHON TASK NO 1\n",
        "\n",
        "Number in python\n",
        "\n",
        "a=10\n",
        "b=8\n",
        "print(a+b)\n",
        "print(a-b)\n",
        "print(a*b)\n",
        "print(a/b)\n",
        "print(a%b)"
      ]
    },
    {
      "cell_type": "code",
      "source": [
        "Operators in python\n",
        "\n",
        "#arithmetic operators\n",
        "a=5\n",
        "b=3\n",
        "print(a+b)\n",
        "print(a-b)\n",
        "print(a*b)\n",
        "print(a/b)\n",
        "\n",
        "#Comparison opertors\n",
        "print(a==b)\n",
        "print(a!=b)\n",
        "print(a>b)\n",
        "print(a<b)\n",
        "\n",
        "#logical opertors\n",
        "print(a > b and a==5)\n",
        "print(a > b or a==3)\n",
        "\n",
        "#assignment opertors\n",
        "a +=b\n",
        "print(a)\n",
        "\n",
        "\n",
        "\n"
      ],
      "metadata": {
        "colab": {
          "base_uri": "https://localhost:8080/"
        },
        "id": "FnF3S9esNIGd",
        "outputId": "19f3e2c5-c1c9-45ae-ea0f-73705b87c7e3"
      },
      "execution_count": null,
      "outputs": [
        {
          "output_type": "stream",
          "name": "stdout",
          "text": [
            "8\n",
            "2\n",
            "15\n",
            "1.6666666666666667\n",
            "False\n",
            "True\n",
            "True\n",
            "False\n",
            "True\n",
            "True\n",
            "8\n"
          ]
        }
      ]
    },
    {
      "cell_type": "code",
      "source": [],
      "metadata": {
        "id": "-h_uMhJ7TTbb"
      },
      "execution_count": null,
      "outputs": []
    },
    {
      "cell_type": "code",
      "source": [
        "Lists in python\n",
        "\n",
        "#create a list\n",
        "my_list=[1,2,3,4,5]\n",
        "\n",
        "#accessing elements\n",
        "print(my_list[0])\n",
        "print(my_list[-1])\n",
        "\n",
        "#modifying elements\n",
        "my_list[0]=10\n",
        "print(my_list)\n",
        "\n",
        "#adding elements\n",
        "my_list.append(6)\n",
        "print(my_list)\n",
        "my_list.insert(0,0)\n",
        "print(my_list)\n",
        "\n",
        "#removing elements\n",
        "my_list.remove(10)\n",
        "print(my_list)\n",
        "my_list.pop()\n",
        "print(my_list)\n",
        "\n",
        "#other methods\n",
        "my_list.sort()\n",
        "print(my_list)\n",
        "my_list.reverse()\n",
        "print(my_list)"
      ],
      "metadata": {
        "colab": {
          "base_uri": "https://localhost:8080/"
        },
        "id": "kbDRFeGRP_8k",
        "outputId": "ddcf1bf5-e111-4e49-e7f8-51a4eb0e616a"
      },
      "execution_count": null,
      "outputs": [
        {
          "output_type": "stream",
          "name": "stdout",
          "text": [
            "1\n",
            "5\n",
            "[10, 2, 3, 4, 5]\n",
            "[10, 2, 3, 4, 5, 6]\n",
            "[0, 10, 2, 3, 4, 5, 6]\n",
            "[0, 2, 3, 4, 5, 6]\n",
            "[0, 2, 3, 4, 5]\n",
            "[0, 2, 3, 4, 5]\n",
            "[5, 4, 3, 2, 0]\n"
          ]
        }
      ]
    },
    {
      "cell_type": "code",
      "source": [
        "Tuple in python\n",
        "\n",
        "#create a tuple\n",
        "my_tuple=(1,2,3,4,5)\n",
        "\n",
        "#accessing elements\n",
        "print(my_tuple[0])\n",
        "print(my_tuple[-1])\n",
        "\n",
        "#slicing\n",
        "print(my_tuple [1:3])\n",
        "\n",
        "#concatenation\n",
        "my_tuple2 = (6,7,8)\n",
        "print(my_tuple+my_tuple2)\n",
        "\n",
        "#repetition\n",
        "print(my_tuple*2)\n",
        "\n",
        "#count\n",
        "print(my_tuple.count(2))\n",
        "\n",
        "#index\n",
        "print(my_tuple.index(3))\n"
      ],
      "metadata": {
        "colab": {
          "base_uri": "https://localhost:8080/"
        },
        "id": "OOYPVGbuRrqz",
        "outputId": "0fab8a71-1e30-4af8-dc9e-10cdd6f52222"
      },
      "execution_count": null,
      "outputs": [
        {
          "output_type": "stream",
          "name": "stdout",
          "text": [
            "1\n",
            "5\n",
            "(2, 3)\n",
            "(1, 2, 3, 4, 5, 6, 7, 8)\n",
            "(1, 2, 3, 4, 5, 1, 2, 3, 4, 5)\n",
            "1\n",
            "2\n"
          ]
        }
      ]
    },
    {
      "cell_type": "code",
      "source": [
        "Sets in python\n",
        "\n",
        "#create a set\n",
        "my_set ={1,2,3,4,5}\n",
        "\n",
        "#adding elements\n",
        "my_set.add(6)\n",
        "print(my_set)\n",
        "\n",
        "#removing elements\n",
        "my_set.remove(4)\n",
        "print(my_set)\n"
      ],
      "metadata": {
        "colab": {
          "base_uri": "https://localhost:8080/"
        },
        "id": "4NdvqF52TjaY",
        "outputId": "c38eb199-aa69-4bd2-a956-6bb883f63dfa"
      },
      "execution_count": null,
      "outputs": [
        {
          "output_type": "stream",
          "name": "stdout",
          "text": [
            "{1, 2, 3, 4, 5, 6}\n",
            "{1, 2, 3, 5, 6}\n"
          ]
        }
      ]
    }
  ]
}