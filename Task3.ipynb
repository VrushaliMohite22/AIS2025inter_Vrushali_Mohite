{
  "nbformat": 4,
  "nbformat_minor": 0,
  "metadata": {
    "colab": {
      "provenance": []
    },
    "kernelspec": {
      "name": "python3",
      "display_name": "Python 3"
    },
    "language_info": {
      "name": "python"
    }
  },
  "cells": [
    {
      "cell_type": "code",
      "execution_count": null,
      "metadata": {
        "colab": {
          "base_uri": "https://localhost:8080/"
        },
        "id": "E02IOdp2ow9i",
        "outputId": "ed5c677f-744e-4de7-ac4d-97f161fbb450"
      },
      "outputs": [
        {
          "output_type": "stream",
          "name": "stdout",
          "text": [
            "5\n"
          ]
        }
      ],
      "source": [
        "   #find the maximum of two numbers\n",
        "def find_max(a,b):\n",
        "  return max(a,b)\n",
        "print (find_max(5,2))"
      ]
    },
    {
      "cell_type": "code",
      "source": [
        "#sum all numbers in a list\n",
        "def sum_numbers(numbers):\n",
        "  return sum(numbers)\n",
        "\n",
        "numbers=[8,2,3,0,7]\n",
        "print(sum_numbers(numbers))"
      ],
      "metadata": {
        "colab": {
          "base_uri": "https://localhost:8080/"
        },
        "id": "lE8IyGsYqqcC",
        "outputId": "021da9ae-f91d-497a-c596-b83419eab69d"
      },
      "execution_count": null,
      "outputs": [
        {
          "output_type": "stream",
          "name": "stdout",
          "text": [
            "20\n"
          ]
        }
      ]
    },
    {
      "cell_type": "code",
      "source": [
        "#return a new list with distinct elements\n",
        "def unique_elements(numbers):\n",
        "  return list(set(numbers))\n",
        "\n",
        "numbers=[1,2,3,3,3,3,4,5]\n",
        "print(unique_elements(numbers))\n"
      ],
      "metadata": {
        "colab": {
          "base_uri": "https://localhost:8080/"
        },
        "id": "f-7czWnmrKxh",
        "outputId": "032cc064-355a-4b55-e1f3-dfc7ccd446df"
      },
      "execution_count": null,
      "outputs": [
        {
          "output_type": "stream",
          "name": "stdout",
          "text": [
            "[1, 2, 3, 4, 5]\n"
          ]
        }
      ]
    },
    {
      "cell_type": "code",
      "source": [
        "import itertools\n",
        "elements=[\"a\",\"b\",\"c\",\"d\"]\n",
        "combinations=list(itertools.combinations(elements,2))\n",
        "print(combinations)"
      ],
      "metadata": {
        "colab": {
          "base_uri": "https://localhost:8080/"
        },
        "id": "LoRmEHMzsoll",
        "outputId": "475167eb-8f06-4517-bee5-e25cd52700b7"
      },
      "execution_count": null,
      "outputs": [
        {
          "output_type": "stream",
          "name": "stdout",
          "text": [
            "[('a', 'b'), ('a', 'c'), ('a', 'd'), ('b', 'c'), ('b', 'd'), ('c', 'd')]\n"
          ]
        }
      ]
    },
    {
      "cell_type": "code",
      "source": [
        "import itertools\n",
        "elements=[\"a\",\"b\",\"c\",\"d\"]\n",
        "permutations=list(itertools.permutations(elements,2))\n",
        "print(permutations)"
      ],
      "metadata": {
        "colab": {
          "base_uri": "https://localhost:8080/"
        },
        "id": "jCob8rCiz8gZ",
        "outputId": "4cb2a3b4-c02d-4b9b-991d-8c96fec55406"
      },
      "execution_count": null,
      "outputs": [
        {
          "output_type": "stream",
          "name": "stdout",
          "text": [
            "[('a', 'b'), ('a', 'c'), ('a', 'd'), ('b', 'a'), ('b', 'c'), ('b', 'd'), ('c', 'a'), ('c', 'b'), ('c', 'd'), ('d', 'a'), ('d', 'b'), ('d', 'c')]\n"
          ]
        }
      ]
    },
    {
      "cell_type": "code",
      "source": [
        "def count_vowels_consonants(word):\n",
        "    vowels ='aeiou'\n",
        "    vowel_count = sum(1 for char in word.lower()if char in vowels)\n",
        "    consonant_count = sum(1 for char in word.lower()if char.isalpha()and char not in vowels)\n",
        "    print(f\"count of vowel is ={vowel_count}\")\n",
        "    print(f\"count of consonant is={consonant_count}\")\n",
        "\n",
        "word = \"statistics\"\n",
        "count_vowels_consonants(word)\n"
      ],
      "metadata": {
        "colab": {
          "base_uri": "https://localhost:8080/"
        },
        "id": "T0CgYFZ8053T",
        "outputId": "da7ec7b4-b47f-4e57-f455-6578cc55a03c"
      },
      "execution_count": null,
      "outputs": [
        {
          "output_type": "stream",
          "name": "stdout",
          "text": [
            "count of vowel is =3\n",
            "count of consonant is=7\n"
          ]
        }
      ]
    },
    {
      "cell_type": "code",
      "source": [
        "def convert_uppercase(word):\n",
        "   return word.upper()\n",
        "\n",
        "word = \"statistics\"\n",
        "print(f\"Result is = {convert_uppercase(word)}\")"
      ],
      "metadata": {
        "colab": {
          "base_uri": "https://localhost:8080/"
        },
        "id": "5JN_ZpB73BNK",
        "outputId": "a2b7f5fd-193b-49a6-9ddf-ada0e4511aec"
      },
      "execution_count": null,
      "outputs": [
        {
          "output_type": "stream",
          "name": "stdout",
          "text": [
            "Result is = STATISTICS\n"
          ]
        }
      ]
    },
    {
      "cell_type": "code",
      "source": [
        "def count_case(word):\n",
        "  lowercase_count=sum(1 for char in word if char.islower())\n",
        "  uppercase_count=sum(1 for char in word if char.isupper())\n",
        "  print(f\"Upper case: {uppercase_count}\")\n",
        "  print(f\"lower case:{lowercase_count}\")\n",
        "\n",
        "word =\"STtiStiCS\"\n",
        "count_case(word)\n"
      ],
      "metadata": {
        "colab": {
          "base_uri": "https://localhost:8080/"
        },
        "id": "T_FRMix73_JM",
        "outputId": "9684b0dc-3e33-436d-c02f-25325c4b997a"
      },
      "execution_count": null,
      "outputs": [
        {
          "output_type": "stream",
          "name": "stdout",
          "text": [
            "Upper case: 5\n",
            "lower case:4\n"
          ]
        }
      ]
    }
  ]
}